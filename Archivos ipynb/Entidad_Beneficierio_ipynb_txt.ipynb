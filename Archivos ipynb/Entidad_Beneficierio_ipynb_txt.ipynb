{
  "cells": [
    {
      "cell_type": "markdown",
      "id": "3d59342e",
      "metadata": {
        "id": "3d59342e"
      },
      "source": [
        "# Conjunto de datos personalizado"
      ]
    },
    {
      "cell_type": "code",
      "source": [
        "!pip install Faker"
      ],
      "metadata": {
        "colab": {
          "base_uri": "https://localhost:8080/"
        },
        "id": "YQUOvOTq4wt5",
        "outputId": "0e9b8def-f874-4163-86fd-08df619b3187"
      },
      "id": "YQUOvOTq4wt5",
      "execution_count": 581,
      "outputs": [
        {
          "output_type": "stream",
          "name": "stdout",
          "text": [
            "Looking in indexes: https://pypi.org/simple, https://us-python.pkg.dev/colab-wheels/public/simple/\n",
            "Requirement already satisfied: Faker in /usr/local/lib/python3.7/dist-packages (15.3.2)\n",
            "Requirement already satisfied: python-dateutil>=2.4 in /usr/local/lib/python3.7/dist-packages (from Faker) (2.8.2)\n",
            "Requirement already satisfied: typing-extensions>=3.10.0.1 in /usr/local/lib/python3.7/dist-packages (from Faker) (4.1.1)\n",
            "Requirement already satisfied: six>=1.5 in /usr/local/lib/python3.7/dist-packages (from python-dateutil>=2.4->Faker) (1.15.0)\n"
          ]
        }
      ]
    },
    {
      "cell_type": "markdown",
      "id": "76e065cb",
      "metadata": {
        "id": "76e065cb"
      },
      "source": [
        "En situaciones en las que los datos no están fácilmente disponibles pero son necesarios, **tendrá que recurrir a recopilar los datos usted mismo.** Hay muchos métodos que puede usar para adquirir estos datos, desde webscraping hasta API. Pero a veces, terminará necesitando crear **datos falsos o \"ficticios\".** Los datos ficticios pueden ser útiles en momentos en los que conoce las funciones exactas que utilizará y los tipos de datos incluidos, pero simplemente no tiene los datos en sí.\n",
        "\n",
        "Aquí, le mostraré **cómo creé 100 000 filas de datos ficticios.** Estos datos tampoco son puramente aleatorios. Si lo fuera, construirlo habría sido mucho más fácil. A veces, al crear datos ficticios desde cero, deberá desarrollar tendencias o patrones dentro de los datos que puedan reflejar el comportamiento del mundo real. "
      ]
    },
    {
      "cell_type": "markdown",
      "id": "1ac08fd8",
      "metadata": {
        "id": "1ac08fd8"
      },
      "source": [
        "# **La necesidad de construir un conjunto de datos**"
      ]
    },
    {
      "cell_type": "markdown",
      "id": "71e91264",
      "metadata": {
        "id": "71e91264"
      },
      "source": [
        "**Supongamos que está creando una aplicación desde cero y necesita establecer una gran base de usuarios para, por ejemplo, realizar pruebas.** Se le proporciona una lista de características y sus respectivos tipos de datos.\n",
        "\n",
        "**Esta base de usuarios también debe reflejar con cierta precisión los usuarios y las tendencias del mundo real, por lo que no puede ser completamente aleatoria.** Por ejemplo, no desea que un usuario tenga un título universitario y también tenga 10 años. Además, es posible que no desee una sobrerrepresentación de un punto de datos específico, como más hombres que mujeres. Todos estos son puntos a tener en cuenta a la hora de crear su conjunto de datos.\n",
        "\n",
        "**Dado que los datos del mundo real rara vez son verdaderamente aleatorios, un conjunto de datos como este sería una excelente simulación para otros conjuntos de datos que manejará en el futuro.**"
      ]
    },
    {
      "cell_type": "markdown",
      "id": "c6482288",
      "metadata": {
        "id": "c6482288"
      },
      "source": [
        "# Construcción del conjunto de datos"
      ]
    },
    {
      "cell_type": "markdown",
      "id": "d02a8e8d",
      "metadata": {
        "id": "d02a8e8d"
      },
      "source": [
        "Para codificar, comience importando las siguientes bibliotecas:"
      ]
    },
    {
      "cell_type": "code",
      "execution_count": 582,
      "id": "97b3d6da",
      "metadata": {
        "id": "97b3d6da"
      },
      "outputs": [],
      "source": [
        "import pandas as pd\n",
        "import uuid\n",
        "import random\n",
        "from faker import Faker\n",
        "import datetime"
      ]
    },
    {
      "cell_type": "markdown",
      "id": "db21c16c",
      "metadata": {
        "id": "db21c16c"
      },
      "source": [
        "**Size**"
      ]
    },
    {
      "cell_type": "markdown",
      "id": "44ce2a03",
      "metadata": {
        "id": "44ce2a03"
      },
      "source": [
        "El tamaño del conjunto de datos será de 100 000 puntos de datos (puede hacer más, pero el procesamiento puede demorar más). Asigné esta cantidad a una variable constante, que usé en todo momento:"
      ]
    },
    {
      "cell_type": "code",
      "execution_count": 583,
      "id": "29f6b5ac",
      "metadata": {
        "id": "29f6b5ac"
      },
      "outputs": [],
      "source": [
        "num_users = 5000"
      ]
    },
    {
      "cell_type": "markdown",
      "id": "4f8ba686",
      "metadata": {
        "id": "4f8ba686"
      },
      "source": [
        "**Características**"
      ]
    },
    {
      "cell_type": "markdown",
      "id": "555a14da",
      "metadata": {
        "id": "555a14da"
      },
      "source": [
        "**ENTIDAD: Beneficiario**\n",
        "\n",
        "Se eligio 7 atributos los cuales e consideran que son los mas importante y que se espera que fueran las más comunes en un conjunto de datos regular de usuarios. Estas características y los respectivos tipos de datos son:\n",
        "\n",
        "     - CI: Es una cadena única de caracteres que vendria a ser la cedula para identificar a cada persona.\n",
        "     - Genero: Tipo de datos de cadena de tres opciones.\n",
        "     - Nombre: Tipo de datos de cadena del nombre y apellido del usuario.\n",
        "     - Edad: Tipo de datos que nos permite saber la edad del beneficiario\n",
        "     - Telefono: Dato de tipo caracter que nos indica que contacto del beneficiario\n",
        "     - Grado: Nos indica en que grado se encuentra el beneficiario.\n",
        "     - Estado: En este atributo se tiene 2 opciones el cual indica si el beneficierio recibe el bono o no."
      ]
    },
    {
      "cell_type": "markdown",
      "id": "17841653",
      "metadata": {
        "id": "17841653"
      },
      "source": [
        "Ingresé lo anterior como una lista de características para inicializar un marco de datos de Pandas:"
      ]
    },
    {
      "cell_type": "code",
      "execution_count": 584,
      "id": "5a145d81",
      "metadata": {
        "id": "5a145d81"
      },
      "outputs": [],
      "source": [
        "# A list of 10 features\n",
        "features = [\n",
        "    \"ci\",\n",
        "    \"gender\",\n",
        "    \"name\",\n",
        "    \"edad\",\n",
        "    \"telefono\",\n",
        "    \"grado\",\n",
        "    \"estado\"\n",
        "]# Creating a DF for these features\n",
        "df = pd.DataFrame(columns=features)"
      ]
    },
    {
      "cell_type": "markdown",
      "id": "32e7f58f",
      "metadata": {
        "id": "32e7f58f"
      },
      "source": [
        "**Creación de Cedulas**"
      ]
    },
    {
      "cell_type": "markdown",
      "id": "57be8b83",
      "metadata": {
        "id": "57be8b83"
      },
      "source": [
        "Para el atributo CI, se utilizo la biblioteca random para generar una cadena aleatoria de caracteres 5 0000 veces. Luego, lo asigné al atributo CI en el marco de datos."
      ]
    },
    {
      "cell_type": "code",
      "source": [
        "df['ci'] = [(random.randrange(1700000000, 1799999999)) for i in range(num_users)]"
      ],
      "metadata": {
        "id": "jpkvxofMTb_b"
      },
      "id": "jpkvxofMTb_b",
      "execution_count": 585,
      "outputs": []
    },
    {
      "cell_type": "markdown",
      "id": "92e30db5",
      "metadata": {
        "id": "92e30db5"
      },
      "source": [
        "**Random es una gran biblioteca para generar identificaciones aleatorias unicas para cada usuario.** Es una gran opción cuando se trata de generar conjuntos de caracteres de identificación únicos. Pero, si desea asegurarse de que no se repitieron las ID, puede realizar una verificación simple en el marco de datos con lo siguiente:"
      ]
    },
    {
      "cell_type": "markdown",
      "source": [
        "**Función para verificar si las cedulas generadas son unicas**"
      ],
      "metadata": {
        "id": "M4P6z1aRkic2"
      },
      "id": "M4P6z1aRkic2"
    },
    {
      "cell_type": "code",
      "source": [
        "print(df['ci'].nunique()==num_users)"
      ],
      "metadata": {
        "colab": {
          "base_uri": "https://localhost:8080/"
        },
        "id": "HG0P3IdhkiLn",
        "outputId": "92c9bd37-a060-4568-b945-895ff2fbec6f"
      },
      "id": "HG0P3IdhkiLn",
      "execution_count": 586,
      "outputs": [
        {
          "output_type": "stream",
          "name": "stdout",
          "text": [
            "True\n"
          ]
        }
      ]
    },
    {
      "cell_type": "markdown",
      "source": [
        "Esto devolverá True si todas las ID en el conjunto de datos son únicas."
      ],
      "metadata": {
        "id": "PeBTBQ5XkvL5"
      },
      "id": "PeBTBQ5XkvL5"
    },
    {
      "cell_type": "markdown",
      "source": [
        "**Generación de genero**"
      ],
      "metadata": {
        "id": "ri9jSBNbfULp"
      },
      "id": "ri9jSBNbfULp"
    },
    {
      "cell_type": "markdown",
      "source": [
        "**Este atributo es uno de los casos en los que probablemente no se debería utilizar una elección igualmente aleatoria. Porque se puede suponer con seguridad que cada elección no tiene la misma probabilidad de ocurrir.**\n",
        "\n",
        "Para el género, proporcioné tres opciones: masculino, femenino y na. Sin embargo, si tuviera que usar la biblioteca aleatoria de Python, cada opción podría mostrarse igualmente en el conjunto de datos. En realidad, habría significativamente más opciones masculinas y femeninas que na. Así que decidí mostrar ese desequilibrio en los datos:"
      ],
      "metadata": {
        "id": "uTZeXAfVfuG5"
      },
      "id": "uTZeXAfVfuG5"
    },
    {
      "cell_type": "code",
      "source": [
        "genders = [\"male\", \"female\", \"na\"]"
      ],
      "metadata": {
        "id": "idelhAiHfV9d"
      },
      "id": "idelhAiHfV9d",
      "execution_count": 587,
      "outputs": []
    },
    {
      "cell_type": "code",
      "source": [
        "df['gender'] = random.choices(\n",
        "    genders, \n",
        "    weights=(47,47,6), \n",
        "    k=num_users\n",
        ")"
      ],
      "metadata": {
        "id": "Cv7OULtsffa2"
      },
      "id": "Cv7OULtsffa2",
      "execution_count": 588,
      "outputs": []
    },
    {
      "cell_type": "markdown",
      "source": [
        "Al usar la biblioteca aleatoria, proporcioné la función de opciones/choices () con la lista de opciones de género, pesos para cada opción y cuántas opciones hacer representadas por \"k\". Luego se asignó al atributo de \"género\" del marco de datos. El desequilibrio que describí antes está representado en la sección de ponderaciones con una opción \"na\" que aparece aproximadamente el 6% de las veces."
      ],
      "metadata": {
        "id": "jVc2_5XZfWU_"
      },
      "id": "jVc2_5XZfWU_"
    },
    {
      "cell_type": "markdown",
      "source": [
        "**Creación de Nombres**"
      ],
      "metadata": {
        "id": "pw-VUOmXXifq"
      },
      "id": "pw-VUOmXXifq"
    },
    {
      "cell_type": "markdown",
      "source": [
        "Aquí se hace uso de la biblioteca Faker para crear miles de nombres para todos estos usuarios. La biblioteca Faker es excelente en esta situación porque tiene una opción para nombres masculinos y femeninos.}} Para procesar los nombres de género, creé una función para asignar nombres en función de un género determinado."
      ],
      "metadata": {
        "id": "mhA4nBRLXvsf"
      },
      "id": "mhA4nBRLXvsf"
    },
    {
      "cell_type": "code",
      "execution_count": 589,
      "metadata": {
        "id": "Js0LSDi1YKit"
      },
      "outputs": [],
      "source": [
        "# Instantiating faker\n",
        "faker = Faker()\n",
        "\n",
        "def name_gen(gender):\n",
        "    \"\"\"\n",
        "    Quickly generates a name based on gender\n",
        "    \"\"\"\n",
        "    if gender=='male':\n",
        "        return faker.name_male()\n",
        "    elif gender=='female':\n",
        "        return faker.name_female()\n",
        "    \n",
        "    return faker.name()# Generating names for each user\n",
        "df['name'] = [name_gen(i) for i in df['gender']]"
      ],
      "id": "Js0LSDi1YKit"
    },
    {
      "cell_type": "markdown",
      "source": [
        "Se usa la función simple para producir rápidamente una lista de nombres basada en los datos del atributo \"Género\" antes y la asigné al marco de datos."
      ],
      "metadata": {
        "id": "4RNeAgAmYPkg"
      },
      "id": "4RNeAgAmYPkg"
    },
    {
      "cell_type": "markdown",
      "source": [
        "**Creación de atributo Edad**"
      ],
      "metadata": {
        "id": "iXpvzmJhZc8O"
      },
      "id": "iXpvzmJhZc8O"
    },
    {
      "cell_type": "markdown",
      "source": [
        "De igual manera para la creación del atributo Edad, se utilizo la biblioteca random para generar una cadena aleatoria de caracteres 5 0000 veces. Luego, lo asigné al atributo CI en el marco de datos."
      ],
      "metadata": {
        "id": "OMNh5mW2lRZc"
      },
      "id": "OMNh5mW2lRZc"
    },
    {
      "cell_type": "code",
      "source": [
        "df['edad'] = [random.randrange(13, 23) for i in range(num_users)]\n",
        "#print(random.randrange(13, 23))"
      ],
      "metadata": {
        "id": "dKTlTotua2qB"
      },
      "execution_count": 590,
      "outputs": [],
      "id": "dKTlTotua2qB"
    },
    {
      "cell_type": "markdown",
      "source": [
        "**Creacion de números de telefono**"
      ],
      "metadata": {
        "id": "xV6oDbwNd0Rh"
      },
      "id": "xV6oDbwNd0Rh"
    },
    {
      "cell_type": "markdown",
      "source": [
        "De igual manera para la creación del atributo Telefono, se utilizo la biblioteca random para generar una cadena aleatoria de caracteres 5 0000 veces. Luego, lo asigné al atributo CI en el marco de datos."
      ],
      "metadata": {
        "id": "qHlrJT4Jldeq"
      },
      "id": "qHlrJT4Jldeq"
    },
    {
      "cell_type": "markdown",
      "source": [
        "**Random es una gran biblioteca para generar identificaciones aleatorias unicas para cada usuario.** Es una gran opción cuando se trata de generar conjuntos de caracteres de identificación únicos. Pero, si desea asegurarse de que no se repitieron las ID, puede realizar una verificación simple en el marco de datos con lo siguiente:"
      ],
      "metadata": {
        "id": "Og6df0wWk7_Z"
      },
      "id": "Og6df0wWk7_Z"
    },
    {
      "cell_type": "code",
      "source": [
        "df['telefono'] = [random.randrange(593990000000, 593991000000) for i in range(num_users)]\n",
        "#print(random.randrange(13, 23))"
      ],
      "metadata": {
        "id": "5CCukOR2d0pi"
      },
      "id": "5CCukOR2d0pi",
      "execution_count": 591,
      "outputs": []
    },
    {
      "cell_type": "markdown",
      "source": [
        "**Creación del atributo \"Grado\"**"
      ],
      "metadata": {
        "id": "DzVsxswHgjg9"
      },
      "id": "DzVsxswHgjg9"
    },
    {
      "cell_type": "markdown",
      "source": [
        "Este atributo indica el grado de discapacidad si es que fuese el caso, por ejemplo en el caso de ser embarazada daria como resultadp \"NA\""
      ],
      "metadata": {
        "id": "Ll_ZabPUgtAJ"
      },
      "id": "Ll_ZabPUgtAJ"
    },
    {
      "cell_type": "code",
      "source": [
        "grads = [\"40%\", \"50%\", \"60%\",  \"70%\", \"100%\", \"NA\"]"
      ],
      "metadata": {
        "id": "PCYb0FadhKK1"
      },
      "id": "PCYb0FadhKK1",
      "execution_count": 592,
      "outputs": []
    },
    {
      "cell_type": "code",
      "source": [
        "df['grado'] = random.choices(\n",
        "    grads, \n",
        "    weights=(10,10,10,10,10,50), \n",
        "    k=num_users\n",
        ")"
      ],
      "metadata": {
        "id": "vWMGFI_DhOR6"
      },
      "id": "vWMGFI_DhOR6",
      "execution_count": 593,
      "outputs": []
    },
    {
      "cell_type": "markdown",
      "source": [
        "De igual madera en este atributo se útilizo la biblioteca aleatoria ya que proporcioné la función de opciones/choices () con la lista de opciones de género, pesos para cada opción y cuántas opciones hacer representadas por \"k\". Luego se asignó al atributo de \"género\" del marco de datos. El desequilibrio que describí antes está representado en la sección de ponderaciones con una opción \"na\" que aparece aproximadamente el 6% de las veces."
      ],
      "metadata": {
        "id": "ajeUf1HghmlI"
      },
      "id": "ajeUf1HghmlI"
    },
    {
      "cell_type": "markdown",
      "id": "57f6abcf",
      "metadata": {
        "id": "57f6abcf"
      },
      "source": [
        "**Estado**"
      ]
    },
    {
      "cell_type": "markdown",
      "id": "06faf5ef",
      "metadata": {
        "id": "06faf5ef"
      },
      "source": [
        "Para este atributo, las opciones se pueden seleccionar aleatoriamente entre Verdadero y Falso. Esto nos indica que si el usario se encuentra activo o inactivo es decir si se encuentra recibiendo el bono o no."
      ]
    },
    {
      "cell_type": "code",
      "execution_count": 594,
      "id": "63766ad3",
      "metadata": {
        "id": "63766ad3"
      },
      "outputs": [],
      "source": [
        "choice = [True, False]\n",
        "df['estado'] = random.choices(\n",
        "    choice, \n",
        "    k=num_users\n",
        ")"
      ]
    },
    {
      "cell_type": "markdown",
      "id": "734bcb93",
      "metadata": {
        "id": "734bcb93"
      },
      "source": [
        "Al igual que \"Genero\" antes, usé random.choices() pero sin pesos porque este atributo se puede dividir aleatoriamente entre las dos opciones ya que solo puede ser \"True\" o \"False\"."
      ]
    },
    {
      "cell_type": "code",
      "execution_count": 595,
      "id": "b746f91d",
      "metadata": {
        "id": "b746f91d"
      },
      "outputs": [],
      "source": [
        "df.to_csv('dataset_users.csv')"
      ]
    }
  ],
  "metadata": {
    "kernelspec": {
      "display_name": "Python 3 (ipykernel)",
      "language": "python",
      "name": "python3"
    },
    "language_info": {
      "codemirror_mode": {
        "name": "ipython",
        "version": 3
      },
      "file_extension": ".py",
      "mimetype": "text/x-python",
      "name": "python",
      "nbconvert_exporter": "python",
      "pygments_lexer": "ipython3",
      "version": "3.9.7"
    },
    "colab": {
      "provenance": []
    }
  },
  "nbformat": 4,
  "nbformat_minor": 5
}