{
  "cells": [
    {
      "cell_type": "markdown",
      "id": "3d59342e",
      "metadata": {
        "id": "3d59342e"
      },
      "source": [
        "# Conjunto de datos personalizado"
      ]
    },
    {
      "cell_type": "code",
      "source": [
        "!pip install Faker"
      ],
      "metadata": {
        "colab": {
          "base_uri": "https://localhost:8080/"
        },
        "id": "YQUOvOTq4wt5",
        "outputId": "68f20a62-83ec-4228-9346-5503ec78d764"
      },
      "id": "YQUOvOTq4wt5",
      "execution_count": 126,
      "outputs": [
        {
          "output_type": "stream",
          "name": "stdout",
          "text": [
            "Looking in indexes: https://pypi.org/simple, https://us-python.pkg.dev/colab-wheels/public/simple/\n",
            "Requirement already satisfied: Faker in /usr/local/lib/python3.7/dist-packages (15.3.2)\n",
            "Requirement already satisfied: typing-extensions>=3.10.0.1 in /usr/local/lib/python3.7/dist-packages (from Faker) (4.1.1)\n",
            "Requirement already satisfied: python-dateutil>=2.4 in /usr/local/lib/python3.7/dist-packages (from Faker) (2.8.2)\n",
            "Requirement already satisfied: six>=1.5 in /usr/local/lib/python3.7/dist-packages (from python-dateutil>=2.4->Faker) (1.15.0)\n"
          ]
        }
      ]
    },
    {
      "cell_type": "markdown",
      "id": "76e065cb",
      "metadata": {
        "id": "76e065cb"
      },
      "source": [
        "En situaciones en las que los datos no están fácilmente disponibles pero son necesarios, **tendrá que recurrir a recopilar los datos usted mismo.** Hay muchos métodos que puede usar para adquirir estos datos, desde webscraping hasta API. Pero a veces, terminará necesitando crear **datos falsos o \"ficticios\".** Los datos ficticios pueden ser útiles en momentos en los que conoce las funciones exactas que utilizará y los tipos de datos incluidos, pero simplemente no tiene los datos en sí.\n",
        "\n",
        "Aquí, le mostraré **cómo creé 100 000 filas de datos ficticios.** Estos datos tampoco son puramente aleatorios. Si lo fuera, construirlo habría sido mucho más fácil. A veces, al crear datos ficticios desde cero, deberá desarrollar tendencias o patrones dentro de los datos que puedan reflejar el comportamiento del mundo real. "
      ]
    },
    {
      "cell_type": "markdown",
      "id": "1ac08fd8",
      "metadata": {
        "id": "1ac08fd8"
      },
      "source": [
        "# **La necesidad de construir un conjunto de datos**"
      ]
    },
    {
      "cell_type": "markdown",
      "id": "71e91264",
      "metadata": {
        "id": "71e91264"
      },
      "source": [
        "**Supongamos que está creando una aplicación desde cero y necesita establecer una gran base de usuarios para, por ejemplo, realizar pruebas.** Se le proporciona una lista de características y sus respectivos tipos de datos.\n",
        "\n",
        "**Esta base de usuarios también debe reflejar con cierta precisión los usuarios y las tendencias del mundo real, por lo que no puede ser completamente aleatoria.** Por ejemplo, no desea que un usuario tenga un título universitario y también tenga 10 años. Además, es posible que no desee una sobrerrepresentación de un punto de datos específico, como más hombres que mujeres. Todos estos son puntos a tener en cuenta a la hora de crear su conjunto de datos.\n",
        "\n",
        "**Dado que los datos del mundo real rara vez son verdaderamente aleatorios, un conjunto de datos como este sería una excelente simulación para otros conjuntos de datos que manejará en el futuro.**"
      ]
    },
    {
      "cell_type": "markdown",
      "id": "c6482288",
      "metadata": {
        "id": "c6482288"
      },
      "source": [
        "# Construcción del conjunto de datos"
      ]
    },
    {
      "cell_type": "markdown",
      "id": "d02a8e8d",
      "metadata": {
        "id": "d02a8e8d"
      },
      "source": [
        "Para codificar, comience importando las siguientes bibliotecas:"
      ]
    },
    {
      "cell_type": "code",
      "execution_count": 127,
      "id": "97b3d6da",
      "metadata": {
        "id": "97b3d6da"
      },
      "outputs": [],
      "source": [
        "import pandas as pd\n",
        "import uuid\n",
        "import random\n",
        "from faker import Faker\n",
        "import datetime"
      ]
    },
    {
      "cell_type": "markdown",
      "id": "db21c16c",
      "metadata": {
        "id": "db21c16c"
      },
      "source": [
        "**Size**"
      ]
    },
    {
      "cell_type": "markdown",
      "id": "44ce2a03",
      "metadata": {
        "id": "44ce2a03"
      },
      "source": [
        "El tamaño del conjunto de datos será de 100 000 puntos de datos (puede hacer más, pero el procesamiento puede demorar más). Asigné esta cantidad a una variable constante, que usé en todo momento:"
      ]
    },
    {
      "cell_type": "code",
      "execution_count": 128,
      "id": "29f6b5ac",
      "metadata": {
        "id": "29f6b5ac"
      },
      "outputs": [],
      "source": [
        "num_users = 5000"
      ]
    },
    {
      "cell_type": "markdown",
      "id": "4f8ba686",
      "metadata": {
        "id": "4f8ba686"
      },
      "source": [
        "**Características**"
      ]
    },
    {
      "cell_type": "markdown",
      "id": "555a14da",
      "metadata": {
        "id": "555a14da"
      },
      "source": [
        "**ENTIDAD: Bono**\n",
        "\n",
        "Se eligio 3 atributos los cuales e consideran que son los mas importante y que se espera que fueran las más comunes en un conjunto de datos regular de usuarios. Estas características y los respectivos tipos de datos son:\n",
        "\n",
        "     - ID: Es una cadena única de caracteres que vendria a ser el ID´s del bono para identificar al mismo.\n",
        "     - Nombre (Bono:) Tipo de datos de cadena de tres opciones los cuales se refieren e indican de que bono se esta tratando.\n",
        "     - nrobeneficiarios: una opción binaria Verdadero/Falso de su estado de suscripción."
      ]
    },
    {
      "cell_type": "markdown",
      "id": "17841653",
      "metadata": {
        "id": "17841653"
      },
      "source": [
        "Ingresé lo anterior como una lista de características para inicializar un marco de datos de Pandas:"
      ]
    },
    {
      "cell_type": "code",
      "execution_count": 129,
      "id": "5a145d81",
      "metadata": {
        "id": "5a145d81"
      },
      "outputs": [],
      "source": [
        "# A list of 10 features\n",
        "features = [\n",
        "    \"id\",\n",
        "    \"nombre\",\n",
        "    \"nrobeneficiarios\"\n",
        "]# Creating a DF for these features\n",
        "df = pd.DataFrame(columns=features)"
      ]
    },
    {
      "cell_type": "markdown",
      "id": "32e7f58f",
      "metadata": {
        "id": "32e7f58f"
      },
      "source": [
        "**Creación de Id´s**"
      ]
    },
    {
      "cell_type": "markdown",
      "id": "57be8b83",
      "metadata": {
        "id": "57be8b83"
      },
      "source": [
        "Para el atributo ID´s, se utilizo la biblioteca random para generar una cadena aleatoria de caracteres 5 0000 veces. Luego, lo asigné al atributo CI en el marco de datos."
      ]
    },
    {
      "cell_type": "code",
      "source": [
        "df['id'] = [random.randrange(1000000, 9999999) for i in range(num_users)]"
      ],
      "metadata": {
        "id": "jpkvxofMTb_b"
      },
      "id": "jpkvxofMTb_b",
      "execution_count": 130,
      "outputs": []
    },
    {
      "cell_type": "markdown",
      "id": "92e30db5",
      "metadata": {
        "id": "92e30db5"
      },
      "source": [
        "**Random es una gran biblioteca para generar identificaciones aleatorias unicas para cada usuario.** Es una gran opción cuando se trata de generar conjuntos de caracteres de identificación únicos. Pero, si desea asegurarse de que no se repitieron las ID, puede realizar una verificación simple en el marco de datos con lo siguiente:"
      ]
    },
    {
      "cell_type": "markdown",
      "source": [
        "**Función para verificar si las Id´s generadas son unicas**"
      ],
      "metadata": {
        "id": "M4P6z1aRkic2"
      },
      "id": "M4P6z1aRkic2"
    },
    {
      "cell_type": "code",
      "source": [
        "print(df['id'].nunique()==num_users)"
      ],
      "metadata": {
        "colab": {
          "base_uri": "https://localhost:8080/"
        },
        "id": "HG0P3IdhkiLn",
        "outputId": "77c76c4c-b301-4811-90fe-ea0bbc09f7d6"
      },
      "id": "HG0P3IdhkiLn",
      "execution_count": 131,
      "outputs": [
        {
          "output_type": "stream",
          "name": "stdout",
          "text": [
            "True\n"
          ]
        }
      ]
    },
    {
      "cell_type": "markdown",
      "source": [
        "Esto devolverá True si todas las Id´s en el conjunto de datos son únicas."
      ],
      "metadata": {
        "id": "PeBTBQ5XkvL5"
      },
      "id": "PeBTBQ5XkvL5"
    },
    {
      "cell_type": "markdown",
      "source": [
        "**Generación del nombre del bono**"
      ],
      "metadata": {
        "id": "ri9jSBNbfULp"
      },
      "id": "ri9jSBNbfULp"
    },
    {
      "cell_type": "markdown",
      "source": [
        "**Este atributo es uno de los casos en los que probablemente no se debería utilizar una elección igualmente aleatoria. Porque se puede suponer con seguridad que cada elección no tiene la misma probabilidad de ocurrir.**\n",
        "\n",
        "Para el género, proporcioné tres opciones: masculino, femenino y na. Sin embargo, si tuviera que usar la biblioteca aleatoria de Python, cada opción podría mostrarse igualmente en el conjunto de datos. En realidad, habría significativamente más opciones masculinas y femeninas que na. Así que decidí mostrar ese desequilibrio en los datos:"
      ],
      "metadata": {
        "id": "uTZeXAfVfuG5"
      },
      "id": "uTZeXAfVfuG5"
    },
    {
      "cell_type": "code",
      "source": [
        "nombres = [\"Bono de Desarrollo Humano\", \"Pension Toda Una Vida\", \"Pension Mis mejores anios\"]"
      ],
      "metadata": {
        "id": "idelhAiHfV9d"
      },
      "id": "idelhAiHfV9d",
      "execution_count": 132,
      "outputs": []
    },
    {
      "cell_type": "code",
      "source": [
        "df['nombre'] = random.choices(\n",
        "    nombres, \n",
        "    weights=(47,47,6), \n",
        "    k=num_users\n",
        ")"
      ],
      "metadata": {
        "id": "Cv7OULtsffa2"
      },
      "id": "Cv7OULtsffa2",
      "execution_count": 133,
      "outputs": []
    },
    {
      "cell_type": "markdown",
      "source": [
        "Al usar la biblioteca aleatoria, proporcioné la función de opciones/choices () con la lista de opciones de género, pesos para cada opción y cuántas opciones hacer representadas por \"k\". Luego se asignó al atributo de \"género\" del marco de datos. El desequilibrio que describí antes está representado en la sección de ponderaciones con una opción \"na\" que aparece aproximadamente el 6% de las veces."
      ],
      "metadata": {
        "id": "jVc2_5XZfWU_"
      },
      "id": "jVc2_5XZfWU_"
    },
    {
      "cell_type": "markdown",
      "source": [
        "**Creación de Nro de beneficiarios**"
      ],
      "metadata": {
        "id": "pw-VUOmXXifq"
      },
      "id": "pw-VUOmXXifq"
    },
    {
      "cell_type": "markdown",
      "source": [
        "De igual manera para el atributo Nro de beneficiarios, se utilizo la biblioteca random para generar una cadena aleatoria de caracteres 5 0000 veces. Luego, lo asigné al atributo CI en el marco de datos."
      ],
      "metadata": {
        "id": "mhA4nBRLXvsf"
      },
      "id": "mhA4nBRLXvsf"
    },
    {
      "cell_type": "code",
      "execution_count": 134,
      "metadata": {
        "id": "Js0LSDi1YKit"
      },
      "outputs": [],
      "source": [
        "df['nrobeneficiarios'] = [(random.randrange(8000, 37000)) for i in range(num_users)]"
      ],
      "id": "Js0LSDi1YKit"
    },
    {
      "cell_type": "markdown",
      "source": [
        "Como se menciono anteriormente esta función contiene una serie de funciones relacionadas con los valores aleatorios el cual permite generar numeros de beneficiarios por bono."
      ],
      "metadata": {
        "id": "4RNeAgAmYPkg"
      },
      "id": "4RNeAgAmYPkg"
    },
    {
      "cell_type": "code",
      "execution_count": 135,
      "id": "b746f91d",
      "metadata": {
        "id": "b746f91d"
      },
      "outputs": [],
      "source": [
        "df.to_csv('dataset_users.csv')"
      ]
    }
  ],
  "metadata": {
    "kernelspec": {
      "display_name": "Python 3 (ipykernel)",
      "language": "python",
      "name": "python3"
    },
    "language_info": {
      "codemirror_mode": {
        "name": "ipython",
        "version": 3
      },
      "file_extension": ".py",
      "mimetype": "text/x-python",
      "name": "python",
      "nbconvert_exporter": "python",
      "pygments_lexer": "ipython3",
      "version": "3.9.7"
    },
    "colab": {
      "provenance": []
    }
  },
  "nbformat": 4,
  "nbformat_minor": 5
}